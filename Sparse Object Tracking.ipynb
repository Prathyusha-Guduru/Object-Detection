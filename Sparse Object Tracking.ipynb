{
 "cells": [
  {
   "cell_type": "code",
   "execution_count": 1,
   "metadata": {},
   "outputs": [],
   "source": [
    "import cv2\n",
    "import numpy as np\n",
    "import matplotlib.pyplot as plt\n",
    "%matplotlib inline"
   ]
  },
  {
   "cell_type": "code",
   "execution_count": 2,
   "metadata": {},
   "outputs": [],
   "source": [
    "corner_params = dict(maxCorners = 10,qualityLevel = 0.3,minDistance = 7,blockSize = 7)"
   ]
  },
  {
   "cell_type": "code",
   "execution_count": 3,
   "metadata": {},
   "outputs": [],
   "source": [
    "lk_params = dict(winSize = (200,200),maxLevel = 2,criteria = (cv2.TERM_CRITERIA_EPS|cv2.TERM_CRITERIA_COUNT,10,0.03))"
   ]
  },
  {
   "cell_type": "code",
   "execution_count": 11,
   "metadata": {},
   "outputs": [],
   "source": [
    "cap = cv2.VideoCapture(0)\n",
    "ret,prev_frame = cap.read()\n",
    "prev_gray = cv2.cvtColor(prev_frame,cv2.COLOR_BGR2GRAY)\n",
    "old_pts = cv2.goodFeaturesToTrack(prev_gray,mask = None, **corner_params)\n",
    "mask = np.zeros_like(prev_frame)\n",
    "\n",
    "while True:\n",
    "    ret,frame = cap.read()\n",
    "    frame_gray = cv2.cvtColor(frame,cv2.COLOR_BGR2GRAY)\n",
    "    next_pts,status,err = cv2.calcOpticalFlowPyrLK(prev_gray,frame_gray,old_pts,None, **lk_params)\n",
    "    \n",
    "    good_new = next_pts[status == 1]\n",
    "    good_old  = old_pts[status == 1]\n",
    "    \n",
    "    for i,(new,old) in enumerate(zip(good_new,good_old)):\n",
    "        x_new,y_new = new.ravel()\n",
    "        x_old,y_old = old.ravel()\n",
    "        \n",
    "        mask = cv2.line(mask,(x_new,y_new),(x_old,y_old),(0,255,0),3)\n",
    "        frame = cv2.circle(frame,(x_new,y_new),8,(0,0,255),-1)\n",
    "    img = cv2.add(frame,mask)\n",
    "    cv2.imshow('Object Tracking',img)\n",
    "    \n",
    "    k = cv2.waitKey(30) & 0xff\n",
    "    if k == 27:\n",
    "        break\n",
    "    \n",
    "    prev_gray = frame_gray.copy()\n",
    "    old_pts = next_pts.reshape(-1,1,2)\n",
    "\n",
    "\n",
    "cv2.destroyAllWindows()\n",
    "cap.release()\n"
   ]
  }
 ],
 "metadata": {
  "kernelspec": {
   "display_name": "Python 3",
   "language": "python",
   "name": "python3"
  },
  "language_info": {
   "codemirror_mode": {
    "name": "ipython",
    "version": 3
   },
   "file_extension": ".py",
   "mimetype": "text/x-python",
   "name": "python",
   "nbconvert_exporter": "python",
   "pygments_lexer": "ipython3",
   "version": "3.7.3"
  }
 },
 "nbformat": 4,
 "nbformat_minor": 4
}
